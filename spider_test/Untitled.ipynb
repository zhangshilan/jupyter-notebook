{
 "cells": [
  {
   "cell_type": "code",
   "execution_count": 115,
   "metadata": {},
   "outputs": [
    {
     "name": "stdout",
     "output_type": "stream",
     "text": [
      "城市： 河北承德 \n",
      "时间： 21日夜间 \n",
      "天气状况： 多云 \n",
      "温度： -3 \n",
      "风级： 3-4级\n"
     ]
    }
   ],
   "source": [
    "import requests\n",
    "from bs4 import BeautifulSoup\n",
    "#import re\n",
    "\n",
    "r = requests.get('http://www.weather.com.cn/weather1d/101090402.shtml#dingzhi_first')\n",
    "r.encoding = 'utf-8'\n",
    "soup = BeautifulSoup(r.text,'html.parser')\n",
    "#body = soup.body\n",
    "tagCity = soup.find('div',class_=\"ctop clearfix\")#找到城市所在的位置\n",
    "tag = tagCity.find_all('a')\n",
    "city = tag[1].string+tag[2].string#爬取城市信息\n",
    "\n",
    "#print(tag)\n",
    "#print(city)\n",
    "\n",
    "tagTem = soup.find('div',{'id':'today'})\n",
    "inf=tagTem.find('ul',class_=\"clearfix\" )\n",
    "p = inf.find_all('p')\n",
    "li = inf.find_all('li')#找到天气状况所在的位置\n",
    "time = li[0].h1.string\n",
    "wea = p[0].string\n",
    "tem = p[1].span.string\n",
    "win = p[2].span.string\n",
    "#print(p)\n",
    "print('城市：',city,'\\n时间：',time,'\\n天气状况：',wea,'\\n温度：',tem,'\\n风级：',win)"
   ]
  },
  {
   "cell_type": "code",
   "execution_count": null,
   "metadata": {},
   "outputs": [],
   "source": []
  },
  {
   "cell_type": "code",
   "execution_count": null,
   "metadata": {},
   "outputs": [],
   "source": []
  }
 ],
 "metadata": {
  "kernelspec": {
   "display_name": "Python 3",
   "language": "python",
   "name": "python3"
  },
  "language_info": {
   "codemirror_mode": {
    "name": "ipython",
    "version": 3
   },
   "file_extension": ".py",
   "mimetype": "text/x-python",
   "name": "python",
   "nbconvert_exporter": "python",
   "pygments_lexer": "ipython3",
   "version": "3.8.3"
  }
 },
 "nbformat": 4,
 "nbformat_minor": 4
}
