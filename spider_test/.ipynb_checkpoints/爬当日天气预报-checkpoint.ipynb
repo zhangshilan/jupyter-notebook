{
 "cells": [
  {
   "cell_type": "code",
   "execution_count": 2,
   "metadata": {},
   "outputs": [
    {
     "name": "stdout",
     "output_type": "stream",
     "text": [
      "\n",
      "城市： 保定 \n",
      "温度： 27.5 \n",
      "风向： 东南风\n",
      "风力： 小于3级 \n",
      "湿度： 43% \n",
      "？ <3\n"
     ]
    }
   ],
   "source": [
    "import requests\n",
    "r = requests.get('http://www.weather.com.cn/data/sk/101090201.html')\n",
    "r.encoding = 'utf-8'\n",
    "print ('\\n城市：',r.json()['weatherinfo']['city'], '\\n温度：',r.json()['weatherinfo']['temp'], '\\n风向：',r.json()['weatherinfo']['WD'])\n",
    "print ('风力：',r.json()['weatherinfo']['WS'],   '\\n湿度：',r.json()['weatherinfo']['SD'],   '\\n？',r.json()['weatherinfo']['WSE'])\n"
   ]
  },
  {
   "cell_type": "code",
   "execution_count": 3,
   "metadata": {},
   "outputs": [
    {
     "name": "stdout",
     "output_type": "stream",
     "text": [
      "今天是：21日（今天）\n",
      "风级：3-4级转<3级\n",
      "最低温度：3℃\n",
      "最高温度：19\n",
      "天气：晴\n"
     ]
    }
   ],
   "source": [
    "from urllib.request import urlopen\n",
    "from bs4 import BeautifulSoup\n",
    "import re\n",
    "\n",
    "resp = urlopen('http://www.weather.com.cn/weather/101090201.shtml')\n",
    "soup = BeautifulSoup(resp,'html.parser')\n",
    "tagDate = soup.find('ul', class_=\"t clearfix\")\n",
    "dates = tagDate.h1.string\n",
    "\n",
    "tagToday = soup.find('p', class_=\"tem\")\n",
    "try:\n",
    "    temperatureHigh = tagToday.span.string\n",
    "except AttributeError as e:\n",
    "    temperatureHigh = tagToday.find_next('p', class_=\"tem\").span.string\n",
    "\n",
    "temperatureLow = tagToday.i.string\n",
    "weather = soup.find('p', class_=\"wea\").string\n",
    "\n",
    "tagWind = soup.find('p',class_=\"win\")\n",
    "winL = tagWind.i.string\n",
    "\n",
    "print('今天是：'+dates)\n",
    "print('风级：'+winL)\n",
    "print('最低温度：'+temperatureLow)\n",
    "print('最高温度：'+temperatureHigh)\n",
    "print('天气：'+weather)\n"
   ]
  },
  {
   "cell_type": "code",
   "execution_count": null,
   "metadata": {},
   "outputs": [],
   "source": []
  }
 ],
 "metadata": {
  "kernelspec": {
   "display_name": "Python 3",
   "language": "python",
   "name": "python3"
  },
  "language_info": {
   "codemirror_mode": {
    "name": "ipython",
    "version": 3
   },
   "file_extension": ".py",
   "mimetype": "text/x-python",
   "name": "python",
   "nbconvert_exporter": "python",
   "pygments_lexer": "ipython3",
   "version": "3.8.3"
  }
 },
 "nbformat": 4,
 "nbformat_minor": 2
}
