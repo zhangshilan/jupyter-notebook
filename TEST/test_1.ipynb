{
 "cells": [
  {
   "cell_type": "code",
   "execution_count": 1,
   "metadata": {},
   "outputs": [],
   "source": [
    "class Dict(dict):\n",
    "    \n",
    "    def __init__(self,**kw):\n",
    "        super().__init__(**kw)\n",
    "        \n",
    "    def __getattr__(self,key):\n",
    "        try:\n",
    "            return self[key]\n",
    "        except KeyError:\n",
    "            raise AttributeError(r\"'Dict' object has no attribute '%s'\" %key)\n",
    "            \n",
    "    def __setattr__(self,key,value):\n",
    "        self[key]=value\n",
    "    "
   ]
  },
  {
   "cell_type": "code",
   "execution_count": 3,
   "metadata": {},
   "outputs": [
    {
     "name": "stderr",
     "output_type": "stream",
     "text": [
      "E\n",
      "======================================================================\n",
      "ERROR: C:\\Users\\lenovo\\AppData\\Roaming\\jupyter\\runtime\\kernel-2c49acf6-d3d5-443b-a2e0-c78b7f29ed89 (unittest.loader._FailedTest)\n",
      "----------------------------------------------------------------------\n",
      "AttributeError: module '__main__' has no attribute 'C:\\Users\\lenovo\\AppData\\Roaming\\jupyter\\runtime\\kernel-2c49acf6-d3d5-443b-a2e0-c78b7f29ed89'\n",
      "\n",
      "----------------------------------------------------------------------\n",
      "Ran 1 test in 0.001s\n",
      "\n",
      "FAILED (errors=1)\n"
     ]
    },
    {
     "ename": "SystemExit",
     "evalue": "True",
     "output_type": "error",
     "traceback": [
      "An exception has occurred, use %tb to see the full traceback.\n",
      "\u001b[1;31mSystemExit\u001b[0m\u001b[1;31m:\u001b[0m True\n"
     ]
    },
    {
     "name": "stderr",
     "output_type": "stream",
     "text": [
      "G:\\Anaconda\\lib\\site-packages\\IPython\\core\\interactiveshell.py:3351: UserWarning: To exit: use 'exit', 'quit', or Ctrl-D.\n",
      "  warn(\"To exit: use 'exit', 'quit', or Ctrl-D.\", stacklevel=1)\n"
     ]
    }
   ],
   "source": [
    "import unittest\n",
    "\n",
    "class TestDict(unittest.TestCase):\n",
    "    \n",
    "    def test_init(self):\n",
    "        d=Dict(a=1,b='test')\n",
    "        self.assertEqual(d.a,1)\n",
    "        self.assertEqual(d.b,'test')\n",
    "        self.assertTrue(isinstance(d,dict))\n",
    "        \n",
    "    def test_key(self):\n",
    "        d=Dict()\n",
    "        d['key']='value'\n",
    "        self.assertEqual=(d.key,'value')\n",
    "        \n",
    "    def test_attr(self):\n",
    "        d=Dict()\n",
    "        d.key='value'\n",
    "        self.assertTrue('key' in d)\n",
    "        self.assertEqual(d['key'],'value')\n",
    "        \n",
    "    def test_keyerror(self):\n",
    "        d=Dict()\n",
    "        with self.assertRaises(KeyError):\n",
    "            value=d['empty']\n",
    "            \n",
    "    def test_attrerror(self):\n",
    "        d=Dict()\n",
    "        with self.assertRaises(AttributeError):\n",
    "            value=d.empty\n",
    "\n",
    "if __name__=='__main__':\n",
    "    unittest.main()\n"
   ]
  },
  {
   "cell_type": "code",
   "execution_count": null,
   "metadata": {},
   "outputs": [],
   "source": [
    "import unittest\n",
    "\n",
    "class Student(object):\n",
    "    def __init__(self,name,score):\n",
    "        self.name=name\n",
    "        self.score=score\n",
    "    def get_grade(self):\n",
    "        if self.score<0 or self.score>100:\n",
    "            raise ValueError\n",
    "        if self.score>=80:\n",
    "            return 'A'\n",
    "        if self.score>=60:\n",
    "            return 'B'\n",
    "        if self.score>=0:\n",
    "            return 'C'\n",
    "\n",
    "class TestStudent(unittest.TestCase):\n",
    "    \n",
    "    def test_80_to_100(self):\n",
    "        s1=Student('Bart',80)"
   ]
  },
  {
   "cell_type": "code",
   "execution_count": null,
   "metadata": {},
   "outputs": [],
   "source": []
  }
 ],
 "metadata": {
  "kernelspec": {
   "display_name": "Python 3",
   "language": "python",
   "name": "python3"
  }
 },
 "nbformat": 4,
 "nbformat_minor": 4
}
