{
 "cells": [
  {
   "cell_type": "code",
   "execution_count": 2,
   "metadata": {},
   "outputs": [
    {
     "name": "stdout",
     "output_type": "stream",
     "text": [
      "hello,world.\n"
     ]
    }
   ],
   "source": [
    "class Hello(object):\n",
    "    def hello(self,name='world'):\n",
    "        print('hello,%s.' %name)\n",
    "        \n",
    "h=Hello()\n",
    "h.hello()"
   ]
  },
  {
   "cell_type": "code",
   "execution_count": 3,
   "metadata": {},
   "outputs": [
    {
     "name": "stdout",
     "output_type": "stream",
     "text": [
      "<class 'type'>\n"
     ]
    }
   ],
   "source": [
    "print(type(Hello))"
   ]
  },
  {
   "cell_type": "code",
   "execution_count": 4,
   "metadata": {},
   "outputs": [
    {
     "name": "stdout",
     "output_type": "stream",
     "text": [
      "<class '__main__.Hello'>\n"
     ]
    }
   ],
   "source": [
    "print(type(h))"
   ]
  },
  {
   "cell_type": "code",
   "execution_count": 5,
   "metadata": {},
   "outputs": [
    {
     "name": "stdout",
     "output_type": "stream",
     "text": [
      "hello,world.\n"
     ]
    }
   ],
   "source": [
    "def fn(self,name='world'):\n",
    "    print('hello,%s.' %name)\n",
    "    \n",
    "Hello = type('hello',(object,),dict(hello=fn))\n",
    "h=Hello()\n",
    "h.hello()"
   ]
  },
  {
   "cell_type": "code",
   "execution_count": 6,
   "metadata": {},
   "outputs": [
    {
     "name": "stdout",
     "output_type": "stream",
     "text": [
      "<class 'type'>\n"
     ]
    }
   ],
   "source": [
    "print(type(Hello))"
   ]
  },
  {
   "cell_type": "code",
   "execution_count": 7,
   "metadata": {},
   "outputs": [
    {
     "name": "stdout",
     "output_type": "stream",
     "text": [
      "<class '__main__.hello'>\n"
     ]
    }
   ],
   "source": [
    "print(type(h))"
   ]
  },
  {
   "cell_type": "code",
   "execution_count": 9,
   "metadata": {},
   "outputs": [
    {
     "data": {
      "text/plain": [
       "[1]"
      ]
     },
     "execution_count": 9,
     "metadata": {},
     "output_type": "execute_result"
    }
   ],
   "source": [
    "class ListMetaclass(type):\n",
    "    def __new__(cls,name,bases,attrs):\n",
    "        attrs['add'] = lambda self,value:self.append(value)\n",
    "        return type.__new__(cls,name,bases,attrs)\n",
    "    \n",
    "class MyList(list,metaclass=ListMetaclass):\n",
    "    pass\n",
    "\n",
    "L = MyList()\n",
    "L.add(1)\n",
    "L"
   ]
  },
  {
   "cell_type": "code",
   "execution_count": 16,
   "metadata": {},
   "outputs": [
    {
     "name": "stdout",
     "output_type": "stream",
     "text": [
      "Found model: User\n",
      "Found mapping : id ==> <IntegerField:id>\n",
      "Found mapping : name ==> <StringField:username>\n",
      "Found mapping : email ==> <StringField:email>\n",
      "Found mapping : password ==> <StringField:password>\n",
      "SQL: insert into User (id,username,email,password) values (?,?,?,?)\n",
      "ARGS: [12345, 'Michael', 'test@orm.org', 'my-pwd']\n"
     ]
    }
   ],
   "source": [
    "\n",
    "#u = User(id=12345,name='Michael',email='test@orm.org',password='my-pwd')\n",
    "#u.save()\n",
    "\n",
    "class Field(object):\n",
    "    \n",
    "    def __init__(self,name,column_type):\n",
    "        self.name=name\n",
    "        self.column_type=column_type\n",
    "        \n",
    "    def __str__(self):\n",
    "        return '<%s:%s>' % (self.__class__.__name__,self.name)\n",
    "    \n",
    "class StringField(Field):\n",
    "    \n",
    "    def __init__(self,name):\n",
    "        super(StringField,self).__init__(name,'varchar(100)')\n",
    "        \n",
    "class IntegerField(Field):\n",
    "    \n",
    "    def __init__(self,name):\n",
    "        super(IntegerField,self).__init__(name,'bigint')\n",
    "        \n",
    "class ModelMetaclass(type):\n",
    "    \n",
    "    def __new__(cls,name,bases,attrs):\n",
    "        if name=='Model':\n",
    "            return type.__new__(cls,name,bases,attrs)\n",
    "        print('Found model: %s' % name)\n",
    "        mappings = dict()\n",
    "        for k,v in attrs.items():\n",
    "            if isinstance(v,Field):\n",
    "                print('Found mapping : %s ==> %s' % (k,v))\n",
    "                mappings[k]=v\n",
    "        for k in mappings.keys():\n",
    "            attrs.pop(k)\n",
    "        attrs['__mappings__']=mappings\n",
    "        attrs['__table__']=name\n",
    "        return type.__new__(cls,name,bases,attrs)\n",
    "    \n",
    "    \n",
    "class Model(dict,metaclass=ModelMetaclass):\n",
    "    \n",
    "    def __init__(self,**kw):\n",
    "        super(Model, self).__init__(**kw)\n",
    "        \n",
    "    def __getattr__(self,key):\n",
    "        try:\n",
    "            return self[key]\n",
    "        except KeyError:\n",
    "            raise AttributeError(r\"'Model' object has no attribute '%s'\" % key)\n",
    "            \n",
    "    def __setattr__(self,key,value):\n",
    "        self[key] = value\n",
    "        \n",
    "    def save(self):\n",
    "        fields = []\n",
    "        params = []\n",
    "        args = []\n",
    "        for k, v in self.__mappings__.items():\n",
    "            fields.append(v.name)\n",
    "            params.append('?')\n",
    "            args.append(getattr(self, k, None))\n",
    "        sql = 'insert into %s (%s) values (%s)' % (self.__table__, ','.join(fields), ','.join(params))\n",
    "        print('SQL: %s' % sql)\n",
    "        print('ARGS: %s' % str(args))\n",
    "        \n",
    "class User(Model):\n",
    "    id = IntegerField('id')\n",
    "    name = StringField('username')\n",
    "    email = StringField('email')\n",
    "    password = StringField('password')\n",
    "    \n",
    "u = User(id=12345,name='Michael',email='test@orm.org',password='my-pwd')\n",
    "u.save()\n"
   ]
  },
  {
   "cell_type": "code",
   "execution_count": null,
   "metadata": {},
   "outputs": [],
   "source": []
  }
 ],
 "metadata": {
  "kernelspec": {
   "display_name": "Python 3",
   "language": "python",
   "name": "python3"
  },
  "language_info": {
   "codemirror_mode": {
    "name": "ipython",
    "version": 3
   },
   "file_extension": ".py",
   "mimetype": "text/x-python",
   "name": "python",
   "nbconvert_exporter": "python",
   "pygments_lexer": "ipython3",
   "version": "3.8.3"
  }
 },
 "nbformat": 4,
 "nbformat_minor": 4
}
